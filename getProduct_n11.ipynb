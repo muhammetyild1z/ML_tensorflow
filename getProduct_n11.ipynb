{
 "cells": [
  {
   "cell_type": "code",
   "execution_count": 2,
   "id": "a3b72539-7b6c-4e6c-9679-1d5a28600ce8",
   "metadata": {},
   "outputs": [],
   "source": [
    "from selenium import webdriver\n",
    "from selenium.webdriver.common.by import By\n",
    "from selenium.webdriver.support.ui import WebDriverWait\n",
    "from selenium.webdriver.support import expected_conditions as EC\n",
    "from bs4 import BeautifulSoup\n",
    "\n",
    "# Open the file containing URLs\n",
    "with open(\"categories_and_subcategoies_n11.txt\", \"r\") as f:\n",
    "    page_num = 6 \n",
    "    lines = f.read().split('\\n')\n",
    "    for line in lines:\n",
    "        driver = webdriver.Chrome()\n",
    "        driver.get(line)\n",
    "\n",
    "        # Dosyayı yazmak için aç\n",
    "        with open(\"productsLink.txt\", \"a\", encoding=\"utf-8\") as file:\n",
    "            while True:\n",
    "                # Sayfanın kaynağını alalım ve yorumları analiz edelim\n",
    "                soup = BeautifulSoup(driver.page_source, 'html.parser')\n",
    "                products = soup.find_all('a', class_='plink')\n",
    "\n",
    "                # Yorumları dosyaya yaz\n",
    "                for product in products:\n",
    "                    productUrl = product['href']                  \n",
    "                    file.write( productUrl + \"\\n\")\n",
    "\n",
    "                # Scroll down the page\n",
    "                driver.execute_script(\"window.scrollTo(0, document.body.scrollHeight);\")\n",
    "\n",
    "                # Sonraki sayfaya geçmek için kontrol et\n",
    "                try:\n",
    "                    # Sonraki butonu varsa, sayfayı artır\n",
    "                    next_button = driver.find_element(By.CLASS_NAME, 'next')\n",
    "                    driver.execute_script(\"arguments[0].click();\", next_button)\n",
    "                    page_num += 1\n",
    "                    WebDriverWait(driver, 10).until(EC.presence_of_element_located((By.CLASS_NAME, \"plink\")))\n",
    "                except:\n",
    "                    # Sonraki butonu yoksa, döngüyü sonlandır\n",
    "                    break\n",
    "\n",
    "driver.quit()\n"
   ]
  },
  {
   "cell_type": "code",
   "execution_count": null,
   "id": "c6fc013e-e655-406d-b483-19d19ca22ffc",
   "metadata": {},
   "outputs": [],
   "source": []
  },
  {
   "cell_type": "code",
   "execution_count": null,
   "id": "9a4d001a-3699-4162-8aa2-25fb9df3fd60",
   "metadata": {},
   "outputs": [],
   "source": []
  },
  {
   "cell_type": "code",
   "execution_count": null,
   "id": "88a723ef-354d-4c0b-8b64-c1167ad31a19",
   "metadata": {},
   "outputs": [],
   "source": []
  },
  {
   "cell_type": "code",
   "execution_count": null,
   "id": "ebb8d811-3500-4d3e-8160-0a018a35e2b6",
   "metadata": {},
   "outputs": [],
   "source": []
  },
  {
   "cell_type": "code",
   "execution_count": null,
   "id": "bea9871f-016c-4dc5-be5e-d07e54d2df2e",
   "metadata": {},
   "outputs": [],
   "source": []
  },
  {
   "cell_type": "code",
   "execution_count": null,
   "id": "b07ef9d0-1660-4c09-9c30-474ee28ee919",
   "metadata": {},
   "outputs": [],
   "source": []
  },
  {
   "cell_type": "code",
   "execution_count": null,
   "id": "451aab04-1544-4c86-a30a-e89bfa5013f8",
   "metadata": {},
   "outputs": [],
   "source": []
  },
  {
   "cell_type": "code",
   "execution_count": null,
   "id": "80ba1661-3084-47d0-bbad-47c7ff06d939",
   "metadata": {},
   "outputs": [],
   "source": []
  },
  {
   "cell_type": "code",
   "execution_count": null,
   "id": "b6820924-0d06-4288-8851-aabc1f748086",
   "metadata": {},
   "outputs": [],
   "source": []
  },
  {
   "cell_type": "code",
   "execution_count": null,
   "id": "9fb33c53-505f-4a9d-90ff-c89f006939d5",
   "metadata": {},
   "outputs": [],
   "source": []
  },
  {
   "cell_type": "code",
   "execution_count": null,
   "id": "4f9bbe66-9d7f-490f-a1dc-28151e3b803e",
   "metadata": {},
   "outputs": [],
   "source": []
  },
  {
   "cell_type": "code",
   "execution_count": null,
   "id": "ba48442f-0c74-4c05-891b-e2ca65f0bdda",
   "metadata": {},
   "outputs": [],
   "source": []
  },
  {
   "cell_type": "code",
   "execution_count": null,
   "id": "a42d69f6-16b9-4936-83d2-3436906ca656",
   "metadata": {},
   "outputs": [],
   "source": []
  },
  {
   "cell_type": "code",
   "execution_count": null,
   "id": "47d5e262-650e-4ea9-b26e-40793390ed2f",
   "metadata": {},
   "outputs": [],
   "source": []
  },
  {
   "cell_type": "code",
   "execution_count": null,
   "id": "383b47b2-5d47-4dcd-8613-7f65c987fb7a",
   "metadata": {},
   "outputs": [],
   "source": []
  },
  {
   "cell_type": "code",
   "execution_count": null,
   "id": "b24e3c05-8db6-478c-8dd1-db75d6ea712f",
   "metadata": {},
   "outputs": [],
   "source": []
  },
  {
   "cell_type": "code",
   "execution_count": null,
   "id": "34bbe34a-899d-4650-9962-a3c202ff1a7a",
   "metadata": {},
   "outputs": [],
   "source": []
  },
  {
   "cell_type": "code",
   "execution_count": null,
   "id": "b0cc6ff9-8010-4d74-ada6-2cbb31197a1a",
   "metadata": {},
   "outputs": [],
   "source": []
  },
  {
   "cell_type": "code",
   "execution_count": null,
   "id": "b8965d69-31de-43b9-a6e3-325a2da8153c",
   "metadata": {},
   "outputs": [],
   "source": [
    "urunler=set()"
   ]
  },
  {
   "cell_type": "code",
   "execution_count": null,
   "id": "2438ba44-cc65-467b-8998-f3f91834a064",
   "metadata": {
    "scrolled": true
   },
   "outputs": [],
   "source": [
    "if len(pages_count)>0:\n",
    "    sayfaSayisi= int (pages_count[-1][2])\n",
    "    print('sayfa sayisi: ' + str(sayfaSayisi))\n",
    "    for sayfaSayi in range(sayfaSayisi):\n",
    "        url2= url1+'?ipg='+str(sayfaSayi+1)\n",
    "        try:\n",
    "           page_source1=requests.get(url2).text\n",
    "        except:\n",
    "            print('hata')\n",
    "\n",
    "        aranan2='\"(.*?)\"data-id=\"(.*?)\"'\n",
    "        sonuc2=re.findall(aranan2,page_source1)\n",
    "        for word in sonuc2:\n",
    "            if word[0] not in urunler:\n",
    "                urunler.add(word[0])\n",
    "                print(word[0])\n",
    "\n",
    "        print(url2)\n",
    "    \n"
   ]
  },
  {
   "cell_type": "code",
   "execution_count": null,
   "id": "1929e8a0-8ba3-4bf0-9063-f4f79784f657",
   "metadata": {},
   "outputs": [],
   "source": [
    "driver.get(url1)\n",
    "\n",
    "WebDriverWait(driver, 10).until(EC.presence_of_element_located((By.TAG_NAME, \"html\")))\n",
    "\n",
    "page_source = driver.page_source\n",
    "driver.quit()"
   ]
  },
  {
   "cell_type": "code",
   "execution_count": null,
   "id": "7dc16840-1cdc-4ace-9c84-465a8ee80338",
   "metadata": {},
   "outputs": [],
   "source": []
  },
  {
   "cell_type": "code",
   "execution_count": null,
   "id": "74064a0a-1a5c-4887-9213-888ced9444ef",
   "metadata": {},
   "outputs": [],
   "source": []
  }
 ],
 "metadata": {
  "kernelspec": {
   "display_name": "Python 3 (ipykernel)",
   "language": "python",
   "name": "python3"
  },
  "language_info": {
   "codemirror_mode": {
    "name": "ipython",
    "version": 3
   },
   "file_extension": ".py",
   "mimetype": "text/x-python",
   "name": "python",
   "nbconvert_exporter": "python",
   "pygments_lexer": "ipython3",
   "version": "3.12.0"
  }
 },
 "nbformat": 4,
 "nbformat_minor": 5
}
