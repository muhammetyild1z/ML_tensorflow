{
 "cells": [
  {
   "cell_type": "code",
   "execution_count": 9,
   "id": "6a3cd6d1-1b28-48b6-82d5-8c5f931115fc",
   "metadata": {},
   "outputs": [],
   "source": [
    "import pandas as pd\n",
    "import numpy as np\n",
    "import json\n",
    "\n",
    "from tensorflow.keras.models import Sequential\n",
    "from tensorflow.keras.layers import Dense,GRU,Embedding,Dropout\n",
    "from tensorflow.keras.optimizers import Adam\n",
    "from keras.optimizers import Adam\n"
   ]
  },
  {
   "cell_type": "code",
   "execution_count": 2,
   "id": "0bddad2f-0f2a-4b45-b78b-63d7bea4fcb2",
   "metadata": {},
   "outputs": [],
   "source": [
    "dataframe= pd.read_csv('comment__learn.csv',sep='\\t')\n",
    "list__comment = dataframe['comment'].fillna('').values.tolist()\n",
    "list__skore=dataframe['skore'].values.tolist()\n"
   ]
  },
  {
   "cell_type": "code",
   "execution_count": null,
   "id": "e90d6fab-e9aa-4284-9204-63f8c8242a76",
   "metadata": {},
   "outputs": [],
   "source": []
  },
  {
   "cell_type": "code",
   "execution_count": 3,
   "id": "2c83bb15-81b9-4ba6-92aa-24e05852f0db",
   "metadata": {},
   "outputs": [],
   "source": [
    "cutoff=int(len(dataframe)*0.98)\n",
    "train_comment,test_comment=list__comment[:cutoff],list__comment[cutoff:]\n",
    "train_skore, test_skore=list__skore[:cutoff],list__skore[cutoff:]"
   ]
  },
  {
   "cell_type": "code",
   "execution_count": 4,
   "id": "466aac02-9c46-4b88-8f18-faad89e99a0b",
   "metadata": {},
   "outputs": [
    {
     "data": {
      "text/plain": [
       "'yıllardıt kullandığımız ürün çok kaliteli ve fiyat çok uygundu teşekkürler'"
      ]
     },
     "execution_count": 4,
     "metadata": {},
     "output_type": "execute_result"
    }
   ],
   "source": [
    "train_comment[1111]"
   ]
  },
  {
   "cell_type": "code",
   "execution_count": 5,
   "id": "78318cae-8bec-4c78-acf7-f6704c204af1",
   "metadata": {},
   "outputs": [],
   "source": [
    "with open('tokenizer.json', encoding='utf-8') as json_data:\n",
    "    jsonData = json.load(json_data)\n"
   ]
  },
  {
   "cell_type": "code",
   "execution_count": 6,
   "id": "fdf8eb9a-3342-42d4-b26e-de3cf8346ef8",
   "metadata": {},
   "outputs": [],
   "source": [
    "def token(commentList):\n",
    "    y_comments=[]\n",
    "    for comment in commentList:\n",
    "        y_comment=[]\n",
    "        for word in comment.split():\n",
    "            if(len(y_comment)<50 and word in jsonData):\n",
    "                y_comment.append(jsonData[word])\n",
    "\n",
    "        if(len(y_comment)<50):\n",
    "            zeros=list(np.zeros(50-len(y_comment),dtype=int))\n",
    "            y_comment=zeros+y_comment\n",
    "\n",
    "        y_comments.append(y_comment)\n",
    "\n",
    "    return np.array(y_comments,dtype=np.dtype(np.int32))"
   ]
  },
  {
   "cell_type": "code",
   "execution_count": 7,
   "id": "f2f9f4e5-13cb-4dfc-89ef-180a339f6461",
   "metadata": {},
   "outputs": [],
   "source": [
    "train_cluster=token(train_comment)\n",
    "test_cluster=token(test_comment)\n",
    "train_skore_array = np.array(train_skore)\n",
    "test_skore_array = np.array(test_skore)"
   ]
  },
  {
   "cell_type": "code",
   "execution_count": 10,
   "id": "8d02ba88-4e38-4091-9cfa-241afbbf959a",
   "metadata": {
    "scrolled": true
   },
   "outputs": [
    {
     "data": {
      "text/html": [
       "<pre style=\"white-space:pre;overflow-x:auto;line-height:normal;font-family:Menlo,'DejaVu Sans Mono',consolas,'Courier New',monospace\"><span style=\"font-weight: bold\">Model: \"sequential_1\"</span>\n",
       "</pre>\n"
      ],
      "text/plain": [
       "\u001b[1mModel: \"sequential_1\"\u001b[0m\n"
      ]
     },
     "metadata": {},
     "output_type": "display_data"
    },
    {
     "data": {
      "text/html": [
       "<pre style=\"white-space:pre;overflow-x:auto;line-height:normal;font-family:Menlo,'DejaVu Sans Mono',consolas,'Courier New',monospace\">┏━━━━━━━━━━━━━━━━━━━━━━━━━━━━━━━━━━━━━━┳━━━━━━━━━━━━━━━━━━━━━━━━━━━━━┳━━━━━━━━━━━━━━━━━┓\n",
       "┃<span style=\"font-weight: bold\"> Layer (type)                         </span>┃<span style=\"font-weight: bold\"> Output Shape                </span>┃<span style=\"font-weight: bold\">         Param # </span>┃\n",
       "┡━━━━━━━━━━━━━━━━━━━━━━━━━━━━━━━━━━━━━━╇━━━━━━━━━━━━━━━━━━━━━━━━━━━━━╇━━━━━━━━━━━━━━━━━┩\n",
       "│ embedding_layer (<span style=\"color: #0087ff; text-decoration-color: #0087ff\">Embedding</span>)          │ ?                           │     <span style=\"color: #00af00; text-decoration-color: #00af00\">0</span> (unbuilt) │\n",
       "├──────────────────────────────────────┼─────────────────────────────┼─────────────────┤\n",
       "│ gru_1 (<span style=\"color: #0087ff; text-decoration-color: #0087ff\">GRU</span>)                          │ ?                           │     <span style=\"color: #00af00; text-decoration-color: #00af00\">0</span> (unbuilt) │\n",
       "├──────────────────────────────────────┼─────────────────────────────┼─────────────────┤\n",
       "│ dropout (<span style=\"color: #0087ff; text-decoration-color: #0087ff\">Dropout</span>)                    │ ?                           │               <span style=\"color: #00af00; text-decoration-color: #00af00\">0</span> │\n",
       "├──────────────────────────────────────┼─────────────────────────────┼─────────────────┤\n",
       "│ gru_2 (<span style=\"color: #0087ff; text-decoration-color: #0087ff\">GRU</span>)                          │ ?                           │     <span style=\"color: #00af00; text-decoration-color: #00af00\">0</span> (unbuilt) │\n",
       "├──────────────────────────────────────┼─────────────────────────────┼─────────────────┤\n",
       "│ dropout_1 (<span style=\"color: #0087ff; text-decoration-color: #0087ff\">Dropout</span>)                  │ ?                           │               <span style=\"color: #00af00; text-decoration-color: #00af00\">0</span> │\n",
       "├──────────────────────────────────────┼─────────────────────────────┼─────────────────┤\n",
       "│ gru_3 (<span style=\"color: #0087ff; text-decoration-color: #0087ff\">GRU</span>)                          │ ?                           │     <span style=\"color: #00af00; text-decoration-color: #00af00\">0</span> (unbuilt) │\n",
       "├──────────────────────────────────────┼─────────────────────────────┼─────────────────┤\n",
       "│ dropout_2 (<span style=\"color: #0087ff; text-decoration-color: #0087ff\">Dropout</span>)                  │ ?                           │               <span style=\"color: #00af00; text-decoration-color: #00af00\">0</span> │\n",
       "├──────────────────────────────────────┼─────────────────────────────┼─────────────────┤\n",
       "│ dense (<span style=\"color: #0087ff; text-decoration-color: #0087ff\">Dense</span>)                        │ ?                           │     <span style=\"color: #00af00; text-decoration-color: #00af00\">0</span> (unbuilt) │\n",
       "└──────────────────────────────────────┴─────────────────────────────┴─────────────────┘\n",
       "</pre>\n"
      ],
      "text/plain": [
       "┏━━━━━━━━━━━━━━━━━━━━━━━━━━━━━━━━━━━━━━┳━━━━━━━━━━━━━━━━━━━━━━━━━━━━━┳━━━━━━━━━━━━━━━━━┓\n",
       "┃\u001b[1m \u001b[0m\u001b[1mLayer (type)                        \u001b[0m\u001b[1m \u001b[0m┃\u001b[1m \u001b[0m\u001b[1mOutput Shape               \u001b[0m\u001b[1m \u001b[0m┃\u001b[1m \u001b[0m\u001b[1m        Param #\u001b[0m\u001b[1m \u001b[0m┃\n",
       "┡━━━━━━━━━━━━━━━━━━━━━━━━━━━━━━━━━━━━━━╇━━━━━━━━━━━━━━━━━━━━━━━━━━━━━╇━━━━━━━━━━━━━━━━━┩\n",
       "│ embedding_layer (\u001b[38;5;33mEmbedding\u001b[0m)          │ ?                           │     \u001b[38;5;34m0\u001b[0m (unbuilt) │\n",
       "├──────────────────────────────────────┼─────────────────────────────┼─────────────────┤\n",
       "│ gru_1 (\u001b[38;5;33mGRU\u001b[0m)                          │ ?                           │     \u001b[38;5;34m0\u001b[0m (unbuilt) │\n",
       "├──────────────────────────────────────┼─────────────────────────────┼─────────────────┤\n",
       "│ dropout (\u001b[38;5;33mDropout\u001b[0m)                    │ ?                           │               \u001b[38;5;34m0\u001b[0m │\n",
       "├──────────────────────────────────────┼─────────────────────────────┼─────────────────┤\n",
       "│ gru_2 (\u001b[38;5;33mGRU\u001b[0m)                          │ ?                           │     \u001b[38;5;34m0\u001b[0m (unbuilt) │\n",
       "├──────────────────────────────────────┼─────────────────────────────┼─────────────────┤\n",
       "│ dropout_1 (\u001b[38;5;33mDropout\u001b[0m)                  │ ?                           │               \u001b[38;5;34m0\u001b[0m │\n",
       "├──────────────────────────────────────┼─────────────────────────────┼─────────────────┤\n",
       "│ gru_3 (\u001b[38;5;33mGRU\u001b[0m)                          │ ?                           │     \u001b[38;5;34m0\u001b[0m (unbuilt) │\n",
       "├──────────────────────────────────────┼─────────────────────────────┼─────────────────┤\n",
       "│ dropout_2 (\u001b[38;5;33mDropout\u001b[0m)                  │ ?                           │               \u001b[38;5;34m0\u001b[0m │\n",
       "├──────────────────────────────────────┼─────────────────────────────┼─────────────────┤\n",
       "│ dense (\u001b[38;5;33mDense\u001b[0m)                        │ ?                           │     \u001b[38;5;34m0\u001b[0m (unbuilt) │\n",
       "└──────────────────────────────────────┴─────────────────────────────┴─────────────────┘\n"
      ]
     },
     "metadata": {},
     "output_type": "display_data"
    },
    {
     "data": {
      "text/html": [
       "<pre style=\"white-space:pre;overflow-x:auto;line-height:normal;font-family:Menlo,'DejaVu Sans Mono',consolas,'Courier New',monospace\"><span style=\"font-weight: bold\"> Total params: </span><span style=\"color: #00af00; text-decoration-color: #00af00\">0</span> (0.00 B)\n",
       "</pre>\n"
      ],
      "text/plain": [
       "\u001b[1m Total params: \u001b[0m\u001b[38;5;34m0\u001b[0m (0.00 B)\n"
      ]
     },
     "metadata": {},
     "output_type": "display_data"
    },
    {
     "data": {
      "text/html": [
       "<pre style=\"white-space:pre;overflow-x:auto;line-height:normal;font-family:Menlo,'DejaVu Sans Mono',consolas,'Courier New',monospace\"><span style=\"font-weight: bold\"> Trainable params: </span><span style=\"color: #00af00; text-decoration-color: #00af00\">0</span> (0.00 B)\n",
       "</pre>\n"
      ],
      "text/plain": [
       "\u001b[1m Trainable params: \u001b[0m\u001b[38;5;34m0\u001b[0m (0.00 B)\n"
      ]
     },
     "metadata": {},
     "output_type": "display_data"
    },
    {
     "data": {
      "text/html": [
       "<pre style=\"white-space:pre;overflow-x:auto;line-height:normal;font-family:Menlo,'DejaVu Sans Mono',consolas,'Courier New',monospace\"><span style=\"font-weight: bold\"> Non-trainable params: </span><span style=\"color: #00af00; text-decoration-color: #00af00\">0</span> (0.00 B)\n",
       "</pre>\n"
      ],
      "text/plain": [
       "\u001b[1m Non-trainable params: \u001b[0m\u001b[38;5;34m0\u001b[0m (0.00 B)\n"
      ]
     },
     "metadata": {},
     "output_type": "display_data"
    }
   ],
   "source": [
    "model = Sequential()\n",
    "model.add(Embedding(input_dim=70000,\n",
    "                    output_dim=50,\n",
    "                    input_length=50,\n",
    "                    name='embedding_layer'))\n",
    "\n",
    "model.add(GRU(units=16, return_sequences=True))\n",
    "model.add(Dropout(0.2))  \n",
    "\n",
    "model.add(GRU(units=8, return_sequences=True))\n",
    "model.add(Dropout(0.2)) \n",
    "\n",
    "model.add(GRU(units=4))\n",
    "model.add(Dropout(0.2))  \n",
    "\n",
    "model.add(Dense(1, activation='sigmoid'))\n",
    "\n",
    "model.compile(loss='binary_crossentropy',\n",
    "              optimizer=Adam(learning_rate=1e-3),\n",
    "              metrics=['accuracy'])\n",
    "\n",
    "model.summary()\n",
    "              "
   ]
  },
  {
   "cell_type": "code",
   "execution_count": 11,
   "id": "b7db63d8-3dbf-485d-954a-1c3d16c706cc",
   "metadata": {},
   "outputs": [
    {
     "name": "stdout",
     "output_type": "stream",
     "text": [
      "Epoch 1/5\n",
      "\u001b[1m13115/13115\u001b[0m \u001b[32m━━━━━━━━━━━━━━━━━━━━\u001b[0m\u001b[37m\u001b[0m \u001b[1m778s\u001b[0m 59ms/step - accuracy: 0.9698 - loss: 0.0993\n",
      "Epoch 2/5\n",
      "\u001b[1m13115/13115\u001b[0m \u001b[32m━━━━━━━━━━━━━━━━━━━━\u001b[0m\u001b[37m\u001b[0m \u001b[1m809s\u001b[0m 62ms/step - accuracy: 0.9844 - loss: 0.0483\n",
      "Epoch 3/5\n",
      "\u001b[1m13115/13115\u001b[0m \u001b[32m━━━━━━━━━━━━━━━━━━━━\u001b[0m\u001b[37m\u001b[0m \u001b[1m818s\u001b[0m 62ms/step - accuracy: 0.9881 - loss: 0.0382\n",
      "Epoch 4/5\n",
      "\u001b[1m13115/13115\u001b[0m \u001b[32m━━━━━━━━━━━━━━━━━━━━\u001b[0m\u001b[37m\u001b[0m \u001b[1m806s\u001b[0m 61ms/step - accuracy: 0.9907 - loss: 0.0315\n",
      "Epoch 5/5\n",
      "\u001b[1m13115/13115\u001b[0m \u001b[32m━━━━━━━━━━━━━━━━━━━━\u001b[0m\u001b[37m\u001b[0m \u001b[1m783s\u001b[0m 60ms/step - accuracy: 0.9920 - loss: 0.0275\n"
     ]
    },
    {
     "data": {
      "text/plain": [
       "<keras.src.callbacks.history.History at 0x1f1907257c0>"
      ]
     },
     "execution_count": 11,
     "metadata": {},
     "output_type": "execute_result"
    }
   ],
   "source": [
    "model.fit(train_cluster, train_skore_array, epochs=5, batch_size=128)"
   ]
  },
  {
   "cell_type": "code",
   "execution_count": 12,
   "id": "dd587de1-9118-47a5-aa43-e84974a0a8bf",
   "metadata": {},
   "outputs": [
    {
     "name": "stdout",
     "output_type": "stream",
     "text": [
      "\u001b[1m1071/1071\u001b[0m \u001b[32m━━━━━━━━━━━━━━━━━━━━\u001b[0m\u001b[37m\u001b[0m \u001b[1m10s\u001b[0m 9ms/step - accuracy: 0.9832 - loss: 0.0513\n"
     ]
    },
    {
     "data": {
      "text/plain": [
       "[0.05505126714706421, 0.9826610088348389]"
      ]
     },
     "execution_count": 12,
     "metadata": {},
     "output_type": "execute_result"
    }
   ],
   "source": [
    "model.evaluate(test_cluster,test_skore_array)"
   ]
  },
  {
   "cell_type": "code",
   "execution_count": 13,
   "id": "d042c78e-ef0d-47a2-b403-2d5ebff8aef0",
   "metadata": {},
   "outputs": [],
   "source": [
    "model.save('text_first_model1.keras')\n",
    "##model.save('text_first.h5')\n"
   ]
  },
  {
   "cell_type": "code",
   "execution_count": 16,
   "id": "1be4446b-5b97-49d3-b1e1-2b39b637d9b4",
   "metadata": {},
   "outputs": [],
   "source": [
    "text_41 = \"Ürünü aldıktan sonra yaşadığım memnuniyetsizlik, hızlıca giderildi.\"\n",
    "text_42 = \"Ürün beklediğimden daha kötü çıktı, hayal kırıklığına uğradım.\"\n",
    "text_43 = \"Kullanma kılavuzu çok eksik, ürünü kullanmak zor.\"\n",
    "text_44 = \"Fiyatı yüksek ancak kalitesiz bir ürün, hayal kırıklığı.\"\n",
    "text_45 = \"Ürün ambalajı sağlam değil, kargo sırasında zarar görmüş.\"\n",
    "text_46 = \"Ürünü aldığımda eksik parçalar vardı, hala çözülemedi.\"\n",
    "text_47 = \"Ürün çok geç geldi, kargo süresi çok uzun.\"\n",
    "text_48 = \"Ürünü kullanmaya başladıktan sonra arızalandı, tamir edilmesi gerekiyor.\"\n",
    "text_49 = \"Fiyatı düşük olmasına rağmen kalitesiz bir ürün, beklediğim gibi değil.\"\n",
    "text_50 = \"Ürünün malzeme kalitesi beklediğimden düşük, hayal kırıklığı yaşadım.\"\n",
    "texts = [\n",
    "    text_45, text_42,text_41,text_43,text_44,text_46,text_47,text_48,text_49,\n",
    "]\n"
   ]
  },
  {
   "cell_type": "code",
   "execution_count": 17,
   "id": "d4d43bbb-2636-49c0-969a-1c3b0536b872",
   "metadata": {},
   "outputs": [
    {
     "name": "stdout",
     "output_type": "stream",
     "text": [
      "\u001b[1m1/1\u001b[0m \u001b[32m━━━━━━━━━━━━━━━━━━━━\u001b[0m\u001b[37m\u001b[0m \u001b[1m1s\u001b[0m 597ms/step\n"
     ]
    },
    {
     "data": {
      "text/plain": [
       "array([[0.92076975],\n",
       "       [0.52836347],\n",
       "       [0.98649085],\n",
       "       [0.99068177],\n",
       "       [0.27647507],\n",
       "       [0.6580956 ],\n",
       "       [0.70787406],\n",
       "       [0.00165258],\n",
       "       [0.01893957]], dtype=float32)"
      ]
     },
     "execution_count": 17,
     "metadata": {},
     "output_type": "execute_result"
    }
   ],
   "source": [
    "test_data=token(texts)\n",
    "response=model.predict(test_data)\n",
    "response"
   ]
  },
  {
   "cell_type": "code",
   "execution_count": null,
   "id": "1911df40-119a-4031-a864-1d94fcde18f0",
   "metadata": {},
   "outputs": [],
   "source": []
  }
 ],
 "metadata": {
  "kernelspec": {
   "display_name": "Python 3 (ipykernel)",
   "language": "python",
   "name": "python3"
  },
  "language_info": {
   "codemirror_mode": {
    "name": "ipython",
    "version": 3
   },
   "file_extension": ".py",
   "mimetype": "text/x-python",
   "name": "python",
   "nbconvert_exporter": "python",
   "pygments_lexer": "ipython3",
   "version": "3.12.0"
  }
 },
 "nbformat": 4,
 "nbformat_minor": 5
}
