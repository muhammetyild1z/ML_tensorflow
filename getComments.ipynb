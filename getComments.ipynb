{
 "cells": [
  {
   "cell_type": "code",
   "execution_count": null,
   "id": "836c001a-e5d5-48b7-8f6b-fa90f1397008",
   "metadata": {
    "editable": true,
    "slideshow": {
     "slide_type": ""
    },
    "tags": []
   },
   "outputs": [],
   "source": [
    "from selenium import webdriver\n",
    "from selenium.webdriver.common.by import By\n",
    "from selenium.webdriver.support.ui import WebDriverWait\n",
    "from selenium.webdriver.support import expected_conditions as EC\n",
    "from bs4 import BeautifulSoup\n",
    "import unicodedata\n",
    "\n",
    "def edit_comment(comment):\n",
    "    replacements = {\"&#252\": \"ü\", \"&#220\": \"Ü\", \"&#231\": \"ç\", \"&#252\": \"Ç\", \"&#246\": \"ö\", \"&#214\": \"Ö\"}\n",
    "    for key, value in replacements.items():\n",
    "        comment = comment.replace(key, value)\n",
    "    return comment\n",
    "\n",
    "def remove_emojis(comment):\n",
    "    cleaned_text = ''\n",
    "    for char in comment:\n",
    "        if not is_emoji(char):\n",
    "            cleaned_text += char\n",
    "    return cleaned_text\n",
    "\n",
    "def is_emoji(character):\n",
    "    if unicodedata.category(character) == 'So':\n",
    "        return True\n",
    "    if unicodedata.category(character) == 'Sk' and not character.isprintable():\n",
    "        return True\n",
    "    return False\n",
    "\n",
    "def parenthesisControl(comment):\n",
    "    return comment.translate({ord(\"(\"): None, ord(\")\"): None})\n",
    "\n",
    "def write_comments_to_file(comments, file_count):\n",
    "    with open(f\"comments_{file_count}.txt\", \"a\", encoding=\"utf-8\") as file:\n",
    "        for comment in comments:\n",
    "            rating_element = comment.find('span', class_='rating')\n",
    "            if rating_element:\n",
    "                rating = rating_element['class'][1].replace('r', '')\n",
    "            else:\n",
    "                rating = '0'\n",
    "            \n",
    "            comment_text = comment.find('p').text.strip()\n",
    "            comment_text = edit_comment(comment_text)\n",
    "            comment_text = parenthesisControl(comment_text)\n",
    "            comment_text = remove_emojis(comment_text)\n",
    "            file.write(str(int(rating) / 100) + \"\\t'\" + comment_text + \"'\\n\")\n",
    "\n",
    "# Chrome WebDriver'ı başlat\n",
    "driver = webdriver.Chrome()\n",
    "driver.implicitly_wait(3)  # Sayfa yüklenirken 10 saniye bekleyin\n",
    "\n",
    "# Ürünlerin URL'lerini içeren dosyayı aç\n",
    "with open(\"products_links_continue.txt\", \"r\") as f:\n",
    "    lines = f.read().split('\\n')\n",
    "\n",
    "# Dosya sayacı\n",
    "file_count = 1\n",
    "\n",
    "for line in lines:\n",
    "    driver.get(line)\n",
    "\n",
    "    # Ürün sayacı\n",
    "    product_count = 0\n",
    "\n",
    "    while True:\n",
    "        # Sayfa kaynağını alın\n",
    "        soup = BeautifulSoup(driver.page_source, 'html.parser')\n",
    "        comments = soup.find_all('li', class_='comment')\n",
    "\n",
    "        # Yorumları dosyaya yaz\n",
    "        write_comments_to_file(comments, file_count)\n",
    "\n",
    "        if product_count >= 270:\n",
    "            file_count += 1\n",
    "            product_count = 0\n",
    "            break\n",
    "\n",
    "        # Sonraki sayfaya geçmek için kontrol et\n",
    "        try:\n",
    "            next_button = driver.find_element(By.CLASS_NAME, 'next')\n",
    "            driver.execute_script(\"arguments[0].click();\", next_button)\n",
    "            WebDriverWait(driver, 3).until(EC.presence_of_element_located((By.CLASS_NAME, \"comment\")))\n",
    "        except:\n",
    "            product_count += len(comments)\n",
    "            break\n",
    "\n",
    "# WebDriver'ı kapat\n",
    "driver.quit()\n"
   ]
  },
  {
   "cell_type": "code",
   "execution_count": null,
   "id": "639bf7ca-ac4e-40fc-ba24-01a423236080",
   "metadata": {
    "editable": true,
    "slideshow": {
     "slide_type": ""
    },
    "tags": []
   },
   "outputs": [],
   "source": []
  },
  {
   "cell_type": "code",
   "execution_count": null,
   "id": "b86b0400-eda9-475d-9a93-5e8be61e8b69",
   "metadata": {},
   "outputs": [],
   "source": []
  },
  {
   "cell_type": "code",
   "execution_count": null,
   "id": "2e6f1040-2656-4ec1-94d4-01935ba24e7e",
   "metadata": {},
   "outputs": [],
   "source": []
  },
  {
   "cell_type": "code",
   "execution_count": null,
   "id": "59976931-8086-431b-8b2d-148d9a7fab4c",
   "metadata": {},
   "outputs": [],
   "source": [
    "#test code\n",
    "\n"
   ]
  },
  {
   "cell_type": "code",
   "execution_count": null,
   "id": "6b6abcda-4996-423c-8abb-796c6e86220c",
   "metadata": {},
   "outputs": [],
   "source": [
    "# bos urunleri ve 0 olan yorumlari alma filitrele"
   ]
  },
  {
   "cell_type": "code",
   "execution_count": null,
   "id": "6c0b9f5a-9311-4902-b014-2c7645723607",
   "metadata": {},
   "outputs": [],
   "source": []
  },
  {
   "cell_type": "code",
   "execution_count": null,
   "id": "48695979-592a-42a7-b80b-3c575fb6b703",
   "metadata": {},
   "outputs": [],
   "source": []
  },
  {
   "cell_type": "code",
   "execution_count": null,
   "id": "3725e438-83e0-468b-9ed7-0f2538e6c824",
   "metadata": {},
   "outputs": [],
   "source": []
  },
  {
   "cell_type": "code",
   "execution_count": null,
   "id": "a95d4df5-d842-4e8e-b6f0-86a40e6ed01d",
   "metadata": {},
   "outputs": [],
   "source": []
  },
  {
   "cell_type": "code",
   "execution_count": null,
   "id": "234a7629-8682-4b3c-88ec-5a95117f0969",
   "metadata": {},
   "outputs": [],
   "source": []
  },
  {
   "cell_type": "code",
   "execution_count": null,
   "id": "0e795696-9ab8-47ac-8ed6-18f4e34f540f",
   "metadata": {},
   "outputs": [],
   "source": []
  },
  {
   "cell_type": "code",
   "execution_count": null,
   "id": "106302cc-6ca2-4b05-9fb3-4155cb1d148f",
   "metadata": {},
   "outputs": [],
   "source": []
  },
  {
   "cell_type": "code",
   "execution_count": null,
   "id": "4ffffb74-7ad5-412b-8965-1b4eed3dc8a7",
   "metadata": {},
   "outputs": [],
   "source": []
  },
  {
   "cell_type": "code",
   "execution_count": null,
   "id": "3ef61410-e9fa-48ef-9e11-04cc1dd5c696",
   "metadata": {},
   "outputs": [],
   "source": [
    "belirli urun sayisindan sonra gelen sorumlari  aska dosyaya yazmak icin gerekli kod blogu"
   ]
  },
  {
   "cell_type": "code",
   "execution_count": null,
   "id": "43326e73-bcfb-40d6-bd02-565c6b218ef7",
   "metadata": {},
   "outputs": [],
   "source": [
    "from selenium import webdriver\n",
    "from selenium.webdriver.common.by import By\n",
    "from selenium.webdriver.support.ui import WebDriverWait\n",
    "from selenium.webdriver.support import expected_conditions as EC\n",
    "from bs4 import BeautifulSoup\n",
    "import unicodedata\n",
    "\n",
    "def edit_comment(comment):\n",
    "    return comment.replace(\"&#252\",\"ü\").replace(\"&#220\",\"Ü\").replace(\"&#231\",\"ç\").replace(\"&#252\",\"Ç\").replace(\"&#246\",\"ö\").replace(\"&#214\",\"Ö\")\n",
    "\n",
    "def remove_emojis(comment):\n",
    "    cleaned_text = ''\n",
    "    for char in comment:\n",
    "        if not is_emoji(char):\n",
    "            cleaned_text += char\n",
    "    return cleaned_text\n",
    "\n",
    "def is_emoji(character):\n",
    "    if unicodedata.category(character) == 'So':\n",
    "        return True\n",
    "    if unicodedata.category(character) == 'Sk' and not character.isprintable():\n",
    "        return True\n",
    "    return False\n",
    "    \n",
    "def parenthesisControl(comment):\n",
    "    return comment.replace(\"(\",\"\").replace(\")\",\"\")\n",
    "\n",
    "file_count = 1\n",
    "product_count = 0  # Başlangıçta ürün sayısını 0 olarak ayarlayın.\n",
    "\n",
    "with open(\"productsLink.txt\", \"r\") as f:\n",
    "    lines = f.read().split('\\n')\n",
    "\n",
    "for line in lines:\n",
    "    driver = webdriver.Chrome()\n",
    "    driver.get(line)\n",
    "\n",
    "    while True:\n",
    "        soup = BeautifulSoup(driver.page_source, 'html.parser')\n",
    "        comments = soup.find_all('li', class_='comment')\n",
    "\n",
    "        # Her 30 ürün için yeni bir dosya oluştur\n",
    "        if product_count >= 30:\n",
    "            file_count += 1\n",
    "            product_count = 0\n",
    "            driver.quit()  # Her 30 üründen sonra sürücüyü kapatın\n",
    "            break\n",
    "\n",
    "        with open(f\"comments_{file_count}.txt\", \"a\", encoding=\"utf-8\") as file:\n",
    "            for comment in comments:\n",
    "                rating = comment.find('span', class_='rating')['class'][1].replace('r', '')\n",
    "                comment_text = comment.find('p').text.strip()\n",
    "                comment_text = edit_comment(comment_text)\n",
    "                comment_text = parenthesisControl(comment_text)\n",
    "                comment_text = remove_emojis(comment_text)\n",
    "                file.write(str(int(rating) / 100) + \"\\t'\" + comment_text + \"'\\n\")\n",
    "\n",
    "        try:\n",
    "            next_button = driver.find_element(By.CLASS_NAME, 'next')\n",
    "            driver.execute_script(\"arguments[0].click();\", next_button)\n",
    "            WebDriverWait(driver, 10).until(EC.presence_of_element_located((By.CLASS_NAME, \"comment\")))\n",
    "        except:\n",
    "            product_count += 1  # Bir sonraki dosyaya geçmeden önce ürün sayısını artırın\n",
    "            break\n"
   ]
  },
  {
   "cell_type": "code",
   "execution_count": null,
   "id": "f61e178f-ed27-4ef6-afde-ac64d89a2d2d",
   "metadata": {},
   "outputs": [],
   "source": []
  },
  {
   "cell_type": "code",
   "execution_count": null,
   "id": "a692fa38-0927-49c4-8907-ed9529e0f146",
   "metadata": {},
   "outputs": [],
   "source": []
  },
  {
   "cell_type": "code",
   "execution_count": null,
   "id": "6ff53b8b-8692-4cdc-94f0-faf42bd64c9d",
   "metadata": {},
   "outputs": [],
   "source": []
  },
  {
   "cell_type": "code",
   "execution_count": null,
   "id": "45c49d04-1c7b-45fd-b4bf-200fb12bc5b2",
   "metadata": {},
   "outputs": [],
   "source": []
  },
  {
   "cell_type": "code",
   "execution_count": null,
   "id": "8b452765-0bf7-4add-aef5-a361af9d0fa7",
   "metadata": {},
   "outputs": [],
   "source": []
  },
  {
   "cell_type": "code",
   "execution_count": null,
   "id": "a7f5451b-1db1-4385-bf6c-c882ecf726ad",
   "metadata": {},
   "outputs": [],
   "source": []
  },
  {
   "cell_type": "code",
   "execution_count": null,
   "id": "dbf9351b-f4c0-4e82-986f-f5e240157837",
   "metadata": {},
   "outputs": [],
   "source": []
  },
  {
   "cell_type": "code",
   "execution_count": null,
   "id": "105154a7-6abe-493e-982d-a8c80d6293e0",
   "metadata": {},
   "outputs": [],
   "source": []
  },
  {
   "cell_type": "code",
   "execution_count": null,
   "id": "cc12ea98-b50b-4302-9da2-58abd013f2a7",
   "metadata": {},
   "outputs": [],
   "source": []
  },
  {
   "cell_type": "code",
   "execution_count": null,
   "id": "e52f586d-7f21-40fb-8f43-37d02392e742",
   "metadata": {},
   "outputs": [],
   "source": []
  },
  {
   "cell_type": "code",
   "execution_count": null,
   "id": "d1a09336-c9be-4845-b644-3a3f4db97c3f",
   "metadata": {},
   "outputs": [],
   "source": []
  },
  {
   "cell_type": "code",
   "execution_count": null,
   "id": "049a0a62-392b-40e3-a44b-266aa87d11ac",
   "metadata": {},
   "outputs": [],
   "source": []
  },
  {
   "cell_type": "code",
   "execution_count": null,
   "id": "6dd48316-c706-4384-b65f-4df4e979cfb2",
   "metadata": {},
   "outputs": [],
   "source": []
  }
 ],
 "metadata": {
  "kernelspec": {
   "display_name": "Python 3 (ipykernel)",
   "language": "python",
   "name": "python3"
  },
  "language_info": {
   "codemirror_mode": {
    "name": "ipython",
    "version": 3
   },
   "file_extension": ".py",
   "mimetype": "text/x-python",
   "name": "python",
   "nbconvert_exporter": "python",
   "pygments_lexer": "ipython3",
   "version": "3.12.0"
  }
 },
 "nbformat": 4,
 "nbformat_minor": 5
}
